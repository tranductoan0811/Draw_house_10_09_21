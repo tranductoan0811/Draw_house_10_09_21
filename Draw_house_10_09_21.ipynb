{
 "cells": [
  {
   "cell_type": "code",
   "execution_count": 1,
   "id": "c9e1bd88",
   "metadata": {},
   "outputs": [],
   "source": [
    "import turtle"
   ]
  },
  {
   "cell_type": "code",
   "execution_count": 2,
   "id": "040e7444",
   "metadata": {},
   "outputs": [],
   "source": [
    "pen = turtle.Turtle()\n",
    "turtle.bgcolor(\"#E1EDF3\")\n",
    "turtle.fillcolor(\"#BCCFCE\")"
   ]
  },
  {
   "cell_type": "code",
   "execution_count": 3,
   "id": "e696b48e",
   "metadata": {},
   "outputs": [],
   "source": [
    "#vẽ mặt trước nhà\n",
    "pen.fillcolor(\"#B3C3D0\")\n",
    "pen.begin_fill()\n",
    "pen.rt(90)\n",
    "pen.fd(250)\n",
    "pen.rt(90)\n",
    "pen.fd(150)\n",
    "pen.rt(90)\n",
    "pen.fd(250)\n",
    "pen.rt(90)\n",
    "pen.fd(150)\n",
    "pen.end_fill()"
   ]
  },
  {
   "cell_type": "code",
   "execution_count": 4,
   "id": "8a0c4843",
   "metadata": {},
   "outputs": [],
   "source": [
    "#vẽ cửa ra vào\n",
    "pen.penup()\n",
    "pen.goto(-105,-250)\n",
    "pen.pendown()\n",
    "pen.fillcolor(\"#6F8AA0\")\n",
    "pen.begin_fill()\n",
    "pen.lt(90)\n",
    "pen.fd(150)\n",
    "pen.rt(90)\n",
    "pen.fd(60)\n",
    "pen.rt(90)\n",
    "pen.fd(150)\n",
    "pen.end_fill()\n",
    "pen.penup()\n",
    "pen.goto(-75,-100)\n",
    "pen.pendown()\n",
    "pen.fd(150)"
   ]
  },
  {
   "cell_type": "code",
   "execution_count": 5,
   "id": "c96edf5a",
   "metadata": {},
   "outputs": [],
   "source": [
    "#vẽ mặt bên tường nhà\n",
    "pen.penup()\n",
    "pen.goto(-150,-250)\n",
    "pen.lt(90)\n",
    "pen.goto(0,-250)\n",
    "pen.lt(35)\n",
    "pen.pendown()\n",
    "pen.fd(300)\n",
    "pen.lt(55)\n",
    "pen.fd(250)\n",
    "pen.lt(305)\n",
    "pen.bk(300)"
   ]
  },
  {
   "cell_type": "code",
   "execution_count": 6,
   "id": "b5306ac7",
   "metadata": {},
   "outputs": [],
   "source": [
    "#vẽ đầu hồi trước nhà\n",
    "pen.goto(-150,0)\n",
    "pen.lt(55)\n",
    "pen.rt(34)\n",
    "pen.fd(90)\n",
    "pen.rt(146)\n",
    "pen.fd(75)"
   ]
  },
  {
   "cell_type": "code",
   "execution_count": 7,
   "id": "6cf0abfe",
   "metadata": {},
   "outputs": [],
   "source": [
    "#vẽ mái nhà mặt bên\n",
    "pen.penup()\n",
    "pen.goto(0,0)\n",
    "pen.rt(90)\n",
    "pen.rt(37)\n",
    "pen.pendown()\n",
    "pen.fd(125)\n",
    "pen.rt(110)\n",
    "pen.fd(300)\n",
    "pen.rt(68)\n",
    "pen.fd(124)"
   ]
  }
 ],
 "metadata": {
  "kernelspec": {
   "display_name": "Python 3 (ipykernel)",
   "language": "python",
   "name": "python3"
  },
  "language_info": {
   "codemirror_mode": {
    "name": "ipython",
    "version": 3
   },
   "file_extension": ".py",
   "mimetype": "text/x-python",
   "name": "python",
   "nbconvert_exporter": "python",
   "pygments_lexer": "ipython3",
   "version": "3.9.6"
  }
 },
 "nbformat": 4,
 "nbformat_minor": 5
}
